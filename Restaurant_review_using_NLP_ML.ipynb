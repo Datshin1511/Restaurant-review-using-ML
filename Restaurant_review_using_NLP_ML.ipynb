{
  "cells": [
    {
      "cell_type": "markdown",
      "metadata": {
        "id": "bxkBpzmP7Z8w"
      },
      "source": [
        "Necessary libraries are imported"
      ]
    },
    {
      "cell_type": "code",
      "execution_count": 1,
      "metadata": {
        "colab": {
          "base_uri": "https://localhost:8080/"
        },
        "id": "H16jTSDh7RFM",
        "outputId": "3ffdaad4-587a-453e-b771-d6931139902f"
      },
      "outputs": [
        {
          "name": "stderr",
          "output_type": "stream",
          "text": [
            "[nltk_data] Downloading package stopwords to\n",
            "[nltk_data]     C:\\Users\\datsh\\AppData\\Roaming\\nltk_data...\n",
            "[nltk_data]   Package stopwords is already up-to-date!\n"
          ]
        },
        {
          "data": {
            "text/plain": [
              "True"
            ]
          },
          "execution_count": 1,
          "metadata": {},
          "output_type": "execute_result"
        }
      ],
      "source": [
        "import pandas as pd\n",
        "import numpy as np\n",
        "import nltk, re\n",
        "from nltk.corpus import stopwords\n",
        "nltk.download('stopwords')"
      ]
    },
    {
      "cell_type": "markdown",
      "metadata": {
        "id": "PQt7KWr07iPs"
      },
      "source": [
        "Reading the sample data of restaurant reviews and storing it in a variable"
      ]
    },
    {
      "cell_type": "code",
      "execution_count": null,
      "metadata": {
        "id": "jMCbMAVi7o0l"
      },
      "outputs": [],
      "source": [
        "dataset = pd.read_csv(r\"restaurant_review.tsv\", delimiter='\\t', quoting=3)"
      ]
    },
    {
      "cell_type": "markdown",
      "metadata": {
        "id": "8Z-doMZD8zKT"
      },
      "source": [
        "**Data processing code section begins**"
      ]
    },
    {
      "cell_type": "markdown",
      "metadata": {
        "id": "Ujf1DxJL84Yi"
      },
      "source": [
        "Data text is stemmed and stopwords are removed"
      ]
    },
    {
      "cell_type": "code",
      "execution_count": null,
      "metadata": {
        "id": "v_n_V9I38ylu"
      },
      "outputs": [],
      "source": [
        "from nltk.stem.porter import PorterStemmer\n",
        "\n",
        "ps = PorterStemmer()\n",
        "stopwords_list = stopwords.words('english')\n",
        "stopwords_list.remove('not')\n",
        "\n",
        "def process_text(text):\n",
        "  text = re.sub('[^a-zA-Z]', ' ', text)\n",
        "  text_list = text.lower().split()\n",
        "  return \" \".join(ps.stem(word) for word in text_list if not word in stopwords_list)\n",
        "\n",
        "corpus = dataset['Review'].apply(process_text)\n",
        "corpus = list(text for text in corpus)"
      ]
    },
    {
      "cell_type": "markdown",
      "metadata": {
        "id": "1oXY2XnoBcxj"
      },
      "source": [
        "Vectorization of data"
      ]
    },
    {
      "cell_type": "code",
      "execution_count": null,
      "metadata": {
        "id": "bIDs6OQ8BhB3"
      },
      "outputs": [],
      "source": [
        "from sklearn.feature_extraction.text import CountVectorizer\n",
        "\n",
        "cv = CountVectorizer(max_features=1500)\n",
        "x_data = cv.fit_transform(corpus).toarray()\n",
        "y_data = dataset.iloc[: ,-1].values"
      ]
    },
    {
      "cell_type": "markdown",
      "metadata": {
        "id": "Bpf-AhYbCCom"
      },
      "source": [
        "Processed data is split between training and test set"
      ]
    },
    {
      "cell_type": "code",
      "execution_count": null,
      "metadata": {
        "id": "DIlI1wFsCI0O"
      },
      "outputs": [],
      "source": [
        "from sklearn.model_selection import train_test_split\n",
        "\n",
        "x_train, x_test, y_train, y_test = train_test_split(x_data, y_data, test_size=0.2)"
      ]
    },
    {
      "cell_type": "markdown",
      "metadata": {
        "id": "EUs_WIyWCoXT"
      },
      "source": [
        "Training the model using Naive Bayes Method"
      ]
    },
    {
      "cell_type": "code",
      "execution_count": null,
      "metadata": {
        "id": "RImE_MY1CppS"
      },
      "outputs": [],
      "source": [
        "from sklearn.naive_bayes import GaussianNB\n",
        "\n",
        "gnb = GaussianNB()\n",
        "gnb.fit(x_train, y_train)\n",
        "predicted_output = gnb.predict(x_test)"
      ]
    },
    {
      "cell_type": "markdown",
      "metadata": {
        "id": "vxX0nydeDM9a"
      },
      "source": [
        "Confusion matrix and accuracy score is created for better vizualization and perception of the output"
      ]
    },
    {
      "cell_type": "code",
      "execution_count": null,
      "metadata": {
        "colab": {
          "base_uri": "https://localhost:8080/"
        },
        "id": "NSt5ngUEDR5k",
        "outputId": "19e25b0d-b6c9-4e50-b165-65edb1b9c6d0"
      },
      "outputs": [
        {
          "name": "stdout",
          "output_type": "stream",
          "text": [
            "Confusion matrix: \n",
            "[[58 13]\n",
            " [42 87]]\n",
            "Accuracy: 72.5%\n"
          ]
        }
      ],
      "source": [
        "from sklearn.metrics import confusion_matrix, accuracy_score\n",
        "\n",
        "cm = confusion_matrix(predicted_output, y_test)\n",
        "accuracy = accuracy_score(predicted_output, y_test)*100\n",
        "\n",
        "print(f\"Confusion matrix: \\n{cm}\\nAccuracy: {accuracy}%\")"
      ]
    }
  ],
  "metadata": {
    "colab": {
      "name": "Restaurant review using NLP ML.ipynb",
      "provenance": []
    },
    "kernelspec": {
      "display_name": "Python 3",
      "name": "python3"
    },
    "language_info": {
      "codemirror_mode": {
        "name": "ipython",
        "version": 3
      },
      "file_extension": ".py",
      "mimetype": "text/x-python",
      "name": "python",
      "nbconvert_exporter": "python",
      "pygments_lexer": "ipython3",
      "version": "3.8.8"
    }
  },
  "nbformat": 4,
  "nbformat_minor": 0
}
